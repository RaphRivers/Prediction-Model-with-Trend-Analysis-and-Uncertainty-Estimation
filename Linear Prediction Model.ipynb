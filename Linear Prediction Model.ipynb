{
 "cells": [
  {
   "cell_type": "markdown",
   "id": "4d0f5ed1-c6c9-4a6b-b4af-201bd95d638f",
   "metadata": {},
   "source": [
    "## Linear Prediction Model Project Implementation\n",
    "To get started, we will import the necessary Python modules:"
   ]
  },
  {
   "cell_type": "markdown",
   "id": "288b02fd-8351-42d8-9b0c-d7a0428c1c95",
   "metadata": {},
   "source": [
    "## Import Modules"
   ]
  },
  {
   "cell_type": "code",
   "execution_count": 1,
   "id": "fe1035f2-3861-44fb-a136-bc108af5f620",
   "metadata": {},
   "outputs": [],
   "source": [
    "import numpy as np\n",
    "import pandas as pd\n",
    "import matplotlib.pyplot as plt\n",
    "import seaborn as sns\n",
    "import statsmodels.formula.api as smf"
   ]
  },
  {
   "cell_type": "code",
   "execution_count": 2,
   "id": "f08bae10-f1a5-405d-a7ae-4fd049c56c15",
   "metadata": {},
   "outputs": [],
   "source": [
    "my_intercept = 0.25\n",
    "my_slope = -1.5"
   ]
  },
  {
   "cell_type": "markdown",
   "id": "41eaadf9-84d3-4bc9-81be-c6a7239105b7",
   "metadata": {},
   "source": [
    "Create a data set of INPUT values to support VISUALIZING behavior."
   ]
  },
  {
   "cell_type": "code",
   "execution_count": 3,
   "id": "6bb8b545-eaa7-4bb2-93a8-3c55ceb9f4ae",
   "metadata": {},
   "outputs": [],
   "source": [
    "df_rand = pd.DataFrame({'x': np.linspace(-3.5, 3.5, num=101)})"
   ]
  },
  {
   "cell_type": "code",
   "execution_count": 4,
   "id": "191ee1cd-7222-4ad0-8d77-4b8628b75f47",
   "metadata": {},
   "outputs": [
    {
     "data": {
      "text/html": [
       "<div>\n",
       "<style scoped>\n",
       "    .dataframe tbody tr th:only-of-type {\n",
       "        vertical-align: middle;\n",
       "    }\n",
       "\n",
       "    .dataframe tbody tr th {\n",
       "        vertical-align: top;\n",
       "    }\n",
       "\n",
       "    .dataframe thead th {\n",
       "        text-align: right;\n",
       "    }\n",
       "</style>\n",
       "<table border=\"1\" class=\"dataframe\">\n",
       "  <thead>\n",
       "    <tr style=\"text-align: right;\">\n",
       "      <th></th>\n",
       "      <th>x</th>\n",
       "    </tr>\n",
       "  </thead>\n",
       "  <tbody>\n",
       "    <tr>\n",
       "      <th>0</th>\n",
       "      <td>-3.50</td>\n",
       "    </tr>\n",
       "    <tr>\n",
       "      <th>1</th>\n",
       "      <td>-3.43</td>\n",
       "    </tr>\n",
       "    <tr>\n",
       "      <th>2</th>\n",
       "      <td>-3.36</td>\n",
       "    </tr>\n",
       "    <tr>\n",
       "      <th>3</th>\n",
       "      <td>-3.29</td>\n",
       "    </tr>\n",
       "    <tr>\n",
       "      <th>4</th>\n",
       "      <td>-3.22</td>\n",
       "    </tr>\n",
       "  </tbody>\n",
       "</table>\n",
       "</div>"
      ],
      "text/plain": [
       "      x\n",
       "0 -3.50\n",
       "1 -3.43\n",
       "2 -3.36\n",
       "3 -3.29\n",
       "4 -3.22"
      ]
     },
     "execution_count": 4,
     "metadata": {},
     "output_type": "execute_result"
    }
   ],
   "source": [
    "df_rand.head()"
   ]
  },
  {
   "cell_type": "markdown",
   "id": "bf8764dd-e523-4255-948b-abae0b344f84",
   "metadata": {},
   "source": [
    "Calculate the trend or the average output **given** the input."
   ]
  },
  {
   "cell_type": "code",
   "execution_count": 5,
   "id": "66cf2680-addc-4629-9cf3-4eded3619adf",
   "metadata": {},
   "outputs": [],
   "source": [
    "# Assign the output to a column trend\n",
    "df_rand['trend'] = my_intercept + my_slope * df_rand.x"
   ]
  },
  {
   "cell_type": "code",
   "execution_count": 6,
   "id": "9e5844e7-0cad-45c1-b485-fa85a91a70aa",
   "metadata": {},
   "outputs": [
    {
     "data": {
      "text/html": [
       "<div>\n",
       "<style scoped>\n",
       "    .dataframe tbody tr th:only-of-type {\n",
       "        vertical-align: middle;\n",
       "    }\n",
       "\n",
       "    .dataframe tbody tr th {\n",
       "        vertical-align: top;\n",
       "    }\n",
       "\n",
       "    .dataframe thead th {\n",
       "        text-align: right;\n",
       "    }\n",
       "</style>\n",
       "<table border=\"1\" class=\"dataframe\">\n",
       "  <thead>\n",
       "    <tr style=\"text-align: right;\">\n",
       "      <th></th>\n",
       "      <th>x</th>\n",
       "      <th>trend</th>\n",
       "    </tr>\n",
       "  </thead>\n",
       "  <tbody>\n",
       "    <tr>\n",
       "      <th>0</th>\n",
       "      <td>-3.50</td>\n",
       "      <td>5.500</td>\n",
       "    </tr>\n",
       "    <tr>\n",
       "      <th>1</th>\n",
       "      <td>-3.43</td>\n",
       "      <td>5.395</td>\n",
       "    </tr>\n",
       "    <tr>\n",
       "      <th>2</th>\n",
       "      <td>-3.36</td>\n",
       "      <td>5.290</td>\n",
       "    </tr>\n",
       "    <tr>\n",
       "      <th>3</th>\n",
       "      <td>-3.29</td>\n",
       "      <td>5.185</td>\n",
       "    </tr>\n",
       "    <tr>\n",
       "      <th>4</th>\n",
       "      <td>-3.22</td>\n",
       "      <td>5.080</td>\n",
       "    </tr>\n",
       "    <tr>\n",
       "      <th>...</th>\n",
       "      <td>...</td>\n",
       "      <td>...</td>\n",
       "    </tr>\n",
       "    <tr>\n",
       "      <th>96</th>\n",
       "      <td>3.22</td>\n",
       "      <td>-4.580</td>\n",
       "    </tr>\n",
       "    <tr>\n",
       "      <th>97</th>\n",
       "      <td>3.29</td>\n",
       "      <td>-4.685</td>\n",
       "    </tr>\n",
       "    <tr>\n",
       "      <th>98</th>\n",
       "      <td>3.36</td>\n",
       "      <td>-4.790</td>\n",
       "    </tr>\n",
       "    <tr>\n",
       "      <th>99</th>\n",
       "      <td>3.43</td>\n",
       "      <td>-4.895</td>\n",
       "    </tr>\n",
       "    <tr>\n",
       "      <th>100</th>\n",
       "      <td>3.50</td>\n",
       "      <td>-5.000</td>\n",
       "    </tr>\n",
       "  </tbody>\n",
       "</table>\n",
       "<p>101 rows × 2 columns</p>\n",
       "</div>"
      ],
      "text/plain": [
       "        x  trend\n",
       "0   -3.50  5.500\n",
       "1   -3.43  5.395\n",
       "2   -3.36  5.290\n",
       "3   -3.29  5.185\n",
       "4   -3.22  5.080\n",
       "..    ...    ...\n",
       "96   3.22 -4.580\n",
       "97   3.29 -4.685\n",
       "98   3.36 -4.790\n",
       "99   3.43 -4.895\n",
       "100  3.50 -5.000\n",
       "\n",
       "[101 rows x 2 columns]"
      ]
     },
     "execution_count": 6,
     "metadata": {},
     "output_type": "execute_result"
    }
   ],
   "source": [
    "df_rand"
   ]
  },
  {
   "cell_type": "markdown",
   "id": "a6549320-6d63-420d-80a0-677d7e0a0d04",
   "metadata": {},
   "source": [
    "Now let's visualize the TREND with respect to the INPUT as a LINE CHART. For this project I will make more figures in matplotlib rather than Seaborn. Mainly because matplotlib will allow me the flexibility to express the prediction model answer effecttively. "
   ]
  },
  {
   "cell_type": "code",
   "execution_count": 7,
   "id": "b4ed572c-077d-4153-9e1a-d7a56e4edcc3",
   "metadata": {},
   "outputs": [],
   "source": [
    "# Set the figure style\n",
    "sns.set_style('whitegrid')"
   ]
  },
  {
   "cell_type": "code",
   "execution_count": 8,
   "id": "61476f08-e846-405e-b1ae-90175c10f525",
   "metadata": {},
   "outputs": [
    {
     "data": {
      "image/png": "[encoded data removed]",
      "text/plain": [
       "<Figure size 500x500 with 1 Axes>"
      ]
     },
     "metadata": {},
     "output_type": "display_data"
    }
   ],
   "source": [
    "# Visualize the linear relationship \n",
    "sns.relplot(data = df_rand, x='x', y='trend', kind='line')\n",
    "\n",
    "plt.show()"
   ]
  },
  {
   "cell_type": "code",
   "execution_count": 9,
   "id": "74fb2fb1-8732-4338-b025-ab25bf6b20fd",
   "metadata": {},
   "outputs": [
    {
     "data": {
      "image/png": "[encoded data removed]",
      "text/plain": [
       "<Figure size 640x480 with 1 Axes>"
      ]
     },
     "metadata": {},
     "output_type": "display_data"
    }
   ],
   "source": [
    "fig, ax = plt.subplots()\n",
    "\n",
    "ax.plot( df_rand.x, df_rand.trend, color='crimson', linewidth=1.5 )\n",
    "\n",
    "ax.set_xlabel('x')\n",
    "ax.set_ylabel('trend')\n",
    "\n",
    "plt.show()"
   ]
  },
  {
   "cell_type": "markdown",
   "id": "1e7920e4-2a4b-4bac-bb3c-8ede6e8c0f12",
   "metadata": {},
   "source": [
    "We will now visualize the variation around the trend. Or, the uncertainty of a single output measurement around the average output! There is the likelihood of an output around the trend is a Gaussian distribution. The variation of a Gaussian is specified by the STANDARD DEVIATION or SIGMA. As such we need to specify the SIGMA to control the level of variation around the trend. \n",
    "\n",
    "Note! In real-world data, I would compute the sigma."
   ]
  },
  {
   "cell_type": "code",
   "execution_count": 10,
   "id": "363d6746-5e24-40af-862b-0b6185e48778",
   "metadata": {},
   "outputs": [],
   "source": [
    "# Set the sigma\n",
    "my_sigma = 1.25"
   ]
  },
  {
   "cell_type": "markdown",
   "id": "81d51a03-f68c-45c8-bb70-4eb05e0be6d2",
   "metadata": {},
   "source": [
    "Next, I will summarize that level of variation using **RIBBONS**. RIBBONS are defined by LOWER and UPPER BOUNDS that correspond to LOWER and UPPER BOUNDS of INTERVALS. Because the linear model has a GAUSSIAN likelihood or distribution, the UNCERTAINTY can be easily summarized as the number of standard deviations around the mean!!!!\n",
    "\n",
    "We will use the $\\pm1 \\sigma$ and the $\\pm2 \\sigma$ intervals around the mean. These correspond to the 68% and the 95% uncertainty intervals."
   ]
  },
  {
   "cell_type": "code",
   "execution_count": 11,
   "id": "a0900bae-9498-438f-ba03-62127180be23",
   "metadata": {
    "scrolled": true
   },
   "outputs": [],
   "source": [
    "# Calculate 68% uncertainty  bounds and assign to objects\n",
    "df_rand['obs_lwr_68'] = df_rand.trend - my_sigma\n",
    "df_rand['obs_upr_68'] = df_rand.trend + my_sigma"
   ]
  },
  {
   "cell_type": "code",
   "execution_count": 12,
   "id": "dcde97da-5c00-48d9-b5e6-d1f2dfb4b6b2",
   "metadata": {},
   "outputs": [],
   "source": [
    "# Calculate 95% uncertainty bounds and assign to objects\n",
    "df_rand['obs_lwr_95'] = df_rand.trend - 2 * my_sigma\n",
    "df_rand['obs_upr_95'] = df_rand.trend + 2 * my_sigma"
   ]
  },
  {
   "cell_type": "code",
   "execution_count": 13,
   "id": "115e3bd5-c874-4cf7-93db-15f41a5aff5d",
   "metadata": {},
   "outputs": [
    {
     "data": {
      "text/html": [
       "<div>\n",
       "<style scoped>\n",
       "    .dataframe tbody tr th:only-of-type {\n",
       "        vertical-align: middle;\n",
       "    }\n",
       "\n",
       "    .dataframe tbody tr th {\n",
       "        vertical-align: top;\n",
       "    }\n",
       "\n",
       "    .dataframe thead th {\n",
       "        text-align: right;\n",
       "    }\n",
       "</style>\n",
       "<table border=\"1\" class=\"dataframe\">\n",
       "  <thead>\n",
       "    <tr style=\"text-align: right;\">\n",
       "      <th></th>\n",
       "      <th>x</th>\n",
       "      <th>trend</th>\n",
       "      <th>obs_lwr_68</th>\n",
       "      <th>obs_upr_68</th>\n",
       "      <th>obs_lwr_95</th>\n",
       "      <th>obs_upr_95</th>\n",
       "    </tr>\n",
       "  </thead>\n",
       "  <tbody>\n",
       "    <tr>\n",
       "      <th>0</th>\n",
       "      <td>-3.50</td>\n",
       "      <td>5.500</td>\n",
       "      <td>4.250</td>\n",
       "      <td>6.750</td>\n",
       "      <td>3.000</td>\n",
       "      <td>8.000</td>\n",
       "    </tr>\n",
       "    <tr>\n",
       "      <th>1</th>\n",
       "      <td>-3.43</td>\n",
       "      <td>5.395</td>\n",
       "      <td>4.145</td>\n",
       "      <td>6.645</td>\n",
       "      <td>2.895</td>\n",
       "      <td>7.895</td>\n",
       "    </tr>\n",
       "    <tr>\n",
       "      <th>2</th>\n",
       "      <td>-3.36</td>\n",
       "      <td>5.290</td>\n",
       "      <td>4.040</td>\n",
       "      <td>6.540</td>\n",
       "      <td>2.790</td>\n",
       "      <td>7.790</td>\n",
       "    </tr>\n",
       "    <tr>\n",
       "      <th>3</th>\n",
       "      <td>-3.29</td>\n",
       "      <td>5.185</td>\n",
       "      <td>3.935</td>\n",
       "      <td>6.435</td>\n",
       "      <td>2.685</td>\n",
       "      <td>7.685</td>\n",
       "    </tr>\n",
       "    <tr>\n",
       "      <th>4</th>\n",
       "      <td>-3.22</td>\n",
       "      <td>5.080</td>\n",
       "      <td>3.830</td>\n",
       "      <td>6.330</td>\n",
       "      <td>2.580</td>\n",
       "      <td>7.580</td>\n",
       "    </tr>\n",
       "    <tr>\n",
       "      <th>...</th>\n",
       "      <td>...</td>\n",
       "      <td>...</td>\n",
       "      <td>...</td>\n",
       "      <td>...</td>\n",
       "      <td>...</td>\n",
       "      <td>...</td>\n",
       "    </tr>\n",
       "    <tr>\n",
       "      <th>96</th>\n",
       "      <td>3.22</td>\n",
       "      <td>-4.580</td>\n",
       "      <td>-5.830</td>\n",
       "      <td>-3.330</td>\n",
       "      <td>-7.080</td>\n",
       "      <td>-2.080</td>\n",
       "    </tr>\n",
       "    <tr>\n",
       "      <th>97</th>\n",
       "      <td>3.29</td>\n",
       "      <td>-4.685</td>\n",
       "      <td>-5.935</td>\n",
       "      <td>-3.435</td>\n",
       "      <td>-7.185</td>\n",
       "      <td>-2.185</td>\n",
       "    </tr>\n",
       "    <tr>\n",
       "      <th>98</th>\n",
       "      <td>3.36</td>\n",
       "      <td>-4.790</td>\n",
       "      <td>-6.040</td>\n",
       "      <td>-3.540</td>\n",
       "      <td>-7.290</td>\n",
       "      <td>-2.290</td>\n",
       "    </tr>\n",
       "    <tr>\n",
       "      <th>99</th>\n",
       "      <td>3.43</td>\n",
       "      <td>-4.895</td>\n",
       "      <td>-6.145</td>\n",
       "      <td>-3.645</td>\n",
       "      <td>-7.395</td>\n",
       "      <td>-2.395</td>\n",
       "    </tr>\n",
       "    <tr>\n",
       "      <th>100</th>\n",
       "      <td>3.50</td>\n",
       "      <td>-5.000</td>\n",
       "      <td>-6.250</td>\n",
       "      <td>-3.750</td>\n",
       "      <td>-7.500</td>\n",
       "      <td>-2.500</td>\n",
       "    </tr>\n",
       "  </tbody>\n",
       "</table>\n",
       "<p>101 rows × 6 columns</p>\n",
       "</div>"
      ],
      "text/plain": [
       "        x  trend  obs_lwr_68  obs_upr_68  obs_lwr_95  obs_upr_95\n",
       "0   -3.50  5.500       4.250       6.750       3.000       8.000\n",
       "1   -3.43  5.395       4.145       6.645       2.895       7.895\n",
       "2   -3.36  5.290       4.040       6.540       2.790       7.790\n",
       "3   -3.29  5.185       3.935       6.435       2.685       7.685\n",
       "4   -3.22  5.080       3.830       6.330       2.580       7.580\n",
       "..    ...    ...         ...         ...         ...         ...\n",
       "96   3.22 -4.580      -5.830      -3.330      -7.080      -2.080\n",
       "97   3.29 -4.685      -5.935      -3.435      -7.185      -2.185\n",
       "98   3.36 -4.790      -6.040      -3.540      -7.290      -2.290\n",
       "99   3.43 -4.895      -6.145      -3.645      -7.395      -2.395\n",
       "100  3.50 -5.000      -6.250      -3.750      -7.500      -2.500\n",
       "\n",
       "[101 rows x 6 columns]"
      ]
     },
     "execution_count": 13,
     "metadata": {},
     "output_type": "execute_result"
    }
   ],
   "source": [
    "df_rand"
   ]
  },
  {
   "cell_type": "markdown",
   "id": "689febe3-4b3c-4352-ac6b-d64bb4c4172a",
   "metadata": {},
   "source": [
    "Visualize the UNCERTAINTY or LEVEL of VARIATION using RIBBONS."
   ]
  },
  {
   "cell_type": "code",
   "execution_count": 14,
   "id": "56375e03-4b19-4231-8286-8b3109a6d182",
   "metadata": {},
   "outputs": [
    {
     "data": {
      "image/png": "[encoded data removed]",
      "text/plain": [
       "<Figure size 640x480 with 1 Axes>"
      ]
     },
     "metadata": {},
     "output_type": "display_data"
    }
   ],
   "source": [
    "# Visualize the 68% and the 95% uncertainty intervals.\n",
    "fig, ax = plt.subplots()\n",
    "\n",
    "# TRUE TREND\n",
    "ax.plot( df_rand.x, df_rand.trend, color='crimson', linewidth=1.5 )\n",
    "\n",
    "# TRUE variation around the TREND - showing 2 intervals\n",
    "# 2 sigma interval\n",
    "ax.fill_between( df_rand.x, df_rand.obs_lwr_95, df_rand.obs_upr_95, facecolor='crimson', alpha=0.35 )\n",
    "\n",
    "# 1 sigma interval\n",
    "ax.fill_between( df_rand.x, df_rand.obs_lwr_68, df_rand.obs_upr_68, facecolor='crimson', alpha=0.35)\n",
    "\n",
    "# set labels\n",
    "ax.set_xlabel('x')\n",
    "ax.set_ylabel('y')\n",
    "\n",
    "# show the plot\n",
    "plt.show()"
   ]
  },
  {
   "cell_type": "markdown",
   "id": "b4575b8d-d3f7-48b4-a39d-c23592f866e3",
   "metadata": {},
   "source": [
    "Here we can see the prediction intervals that summarize the level of variation using RIBBONS. These ribbons defined the lower and upper bounds of that correspond to LOWER and UPPER BOUNDS of bothe the 68% and 95% confidence intervals set above. Now let's generate output data for our linear model application."
   ]
  },
  {
   "cell_type": "markdown",
   "id": "5823fb78-146d-4989-808e-4f34513eaf2a",
   "metadata": {},
   "source": [
    "## Generate random output data\n",
    "\n",
    "Let's generate a small number of random output observations at specific input values. For simplicity, i'll treat the input as NOT random rather the input will have values UNIFORMLY spaced between a lower bound and upper bound. Specifically, let's use 9 input locations between -3 and 3."
   ]
  },
  {
   "cell_type": "code",
   "execution_count": 15,
   "id": "5f272a17-8472-4aac-9418-6742ab58cb3c",
   "metadata": {},
   "outputs": [],
   "source": [
    "df = pd.DataFrame({'x': np.linspace(-3, 3, num=9)})"
   ]
  },
  {
   "cell_type": "code",
   "execution_count": 16,
   "id": "a6f1cbb4-efbf-44a0-bee5-8a37399ba0b2",
   "metadata": {},
   "outputs": [
    {
     "data": {
      "text/html": [
       "<div>\n",
       "<style scoped>\n",
       "    .dataframe tbody tr th:only-of-type {\n",
       "        vertical-align: middle;\n",
       "    }\n",
       "\n",
       "    .dataframe tbody tr th {\n",
       "        vertical-align: top;\n",
       "    }\n",
       "\n",
       "    .dataframe thead th {\n",
       "        text-align: right;\n",
       "    }\n",
       "</style>\n",
       "<table border=\"1\" class=\"dataframe\">\n",
       "  <thead>\n",
       "    <tr style=\"text-align: right;\">\n",
       "      <th></th>\n",
       "      <th>x</th>\n",
       "    </tr>\n",
       "  </thead>\n",
       "  <tbody>\n",
       "    <tr>\n",
       "      <th>0</th>\n",
       "      <td>-3.00</td>\n",
       "    </tr>\n",
       "    <tr>\n",
       "      <th>1</th>\n",
       "      <td>-2.25</td>\n",
       "    </tr>\n",
       "    <tr>\n",
       "      <th>2</th>\n",
       "      <td>-1.50</td>\n",
       "    </tr>\n",
       "    <tr>\n",
       "      <th>3</th>\n",
       "      <td>-0.75</td>\n",
       "    </tr>\n",
       "    <tr>\n",
       "      <th>4</th>\n",
       "      <td>0.00</td>\n",
       "    </tr>\n",
       "    <tr>\n",
       "      <th>5</th>\n",
       "      <td>0.75</td>\n",
       "    </tr>\n",
       "    <tr>\n",
       "      <th>6</th>\n",
       "      <td>1.50</td>\n",
       "    </tr>\n",
       "    <tr>\n",
       "      <th>7</th>\n",
       "      <td>2.25</td>\n",
       "    </tr>\n",
       "    <tr>\n",
       "      <th>8</th>\n",
       "      <td>3.00</td>\n",
       "    </tr>\n",
       "  </tbody>\n",
       "</table>\n",
       "</div>"
      ],
      "text/plain": [
       "      x\n",
       "0 -3.00\n",
       "1 -2.25\n",
       "2 -1.50\n",
       "3 -0.75\n",
       "4  0.00\n",
       "5  0.75\n",
       "6  1.50\n",
       "7  2.25\n",
       "8  3.00"
      ]
     },
     "execution_count": 16,
     "metadata": {},
     "output_type": "execute_result"
    }
   ],
   "source": [
    "df"
   ]
  },
  {
   "cell_type": "markdown",
   "id": "0785dba3-60b0-4ef4-8fe0-846b8dc6d36f",
   "metadata": {},
   "source": [
    "Next, we need to calculate the MEAN OUTPUT or TREND **GIVEN** the input values!"
   ]
  },
  {
   "cell_type": "code",
   "execution_count": 17,
   "id": "7226362e-e839-477f-bd32-9b439a02250c",
   "metadata": {},
   "outputs": [],
   "source": [
    "df['trend'] = my_intercept + my_slope * df.x"
   ]
  },
  {
   "cell_type": "code",
   "execution_count": 18,
   "id": "5f9006c4-cf67-4c7a-b1b4-951e9fe74639",
   "metadata": {},
   "outputs": [
    {
     "data": {
      "text/html": [
       "<div>\n",
       "<style scoped>\n",
       "    .dataframe tbody tr th:only-of-type {\n",
       "        vertical-align: middle;\n",
       "    }\n",
       "\n",
       "    .dataframe tbody tr th {\n",
       "        vertical-align: top;\n",
       "    }\n",
       "\n",
       "    .dataframe thead th {\n",
       "        text-align: right;\n",
       "    }\n",
       "</style>\n",
       "<table border=\"1\" class=\"dataframe\">\n",
       "  <thead>\n",
       "    <tr style=\"text-align: right;\">\n",
       "      <th></th>\n",
       "      <th>x</th>\n",
       "      <th>trend</th>\n",
       "    </tr>\n",
       "  </thead>\n",
       "  <tbody>\n",
       "    <tr>\n",
       "      <th>0</th>\n",
       "      <td>-3.00</td>\n",
       "      <td>4.750</td>\n",
       "    </tr>\n",
       "    <tr>\n",
       "      <th>1</th>\n",
       "      <td>-2.25</td>\n",
       "      <td>3.625</td>\n",
       "    </tr>\n",
       "    <tr>\n",
       "      <th>2</th>\n",
       "      <td>-1.50</td>\n",
       "      <td>2.500</td>\n",
       "    </tr>\n",
       "    <tr>\n",
       "      <th>3</th>\n",
       "      <td>-0.75</td>\n",
       "      <td>1.375</td>\n",
       "    </tr>\n",
       "    <tr>\n",
       "      <th>4</th>\n",
       "      <td>0.00</td>\n",
       "      <td>0.250</td>\n",
       "    </tr>\n",
       "    <tr>\n",
       "      <th>5</th>\n",
       "      <td>0.75</td>\n",
       "      <td>-0.875</td>\n",
       "    </tr>\n",
       "    <tr>\n",
       "      <th>6</th>\n",
       "      <td>1.50</td>\n",
       "      <td>-2.000</td>\n",
       "    </tr>\n",
       "    <tr>\n",
       "      <th>7</th>\n",
       "      <td>2.25</td>\n",
       "      <td>-3.125</td>\n",
       "    </tr>\n",
       "    <tr>\n",
       "      <th>8</th>\n",
       "      <td>3.00</td>\n",
       "      <td>-4.250</td>\n",
       "    </tr>\n",
       "  </tbody>\n",
       "</table>\n",
       "</div>"
      ],
      "text/plain": [
       "      x  trend\n",
       "0 -3.00  4.750\n",
       "1 -2.25  3.625\n",
       "2 -1.50  2.500\n",
       "3 -0.75  1.375\n",
       "4  0.00  0.250\n",
       "5  0.75 -0.875\n",
       "6  1.50 -2.000\n",
       "7  2.25 -3.125\n",
       "8  3.00 -4.250"
      ]
     },
     "execution_count": 18,
     "metadata": {},
     "output_type": "execute_result"
    }
   ],
   "source": [
    "df"
   ]
  },
  {
   "cell_type": "markdown",
   "id": "0dd4af19-70be-49ac-9b21-88464cf7851b",
   "metadata": {},
   "source": [
    "The OUTPUT are RANDOMLY distributed around the MEAN as a GAUSSIAN distribution."
   ]
  },
  {
   "cell_type": "code",
   "execution_count": 19,
   "id": "09db5bd2-1231-4933-8e68-901823c2b705",
   "metadata": {},
   "outputs": [],
   "source": [
    "rg = np.random.default_rng(2100)"
   ]
  },
  {
   "cell_type": "code",
   "execution_count": 20,
   "id": "d07413eb-6213-43a0-b81a-d57efeb4fe3c",
   "metadata": {},
   "outputs": [],
   "source": [
    "df['y'] = rg.normal( loc = df.trend, scale = my_sigma, size=df.shape[0] )"
   ]
  },
  {
   "cell_type": "code",
   "execution_count": 21,
   "id": "9e7351cc-2e3f-4ea0-aec5-357c1c43cb2e",
   "metadata": {},
   "outputs": [
    {
     "data": {
      "text/html": [
       "<div>\n",
       "<style scoped>\n",
       "    .dataframe tbody tr th:only-of-type {\n",
       "        vertical-align: middle;\n",
       "    }\n",
       "\n",
       "    .dataframe tbody tr th {\n",
       "        vertical-align: top;\n",
       "    }\n",
       "\n",
       "    .dataframe thead th {\n",
       "        text-align: right;\n",
       "    }\n",
       "</style>\n",
       "<table border=\"1\" class=\"dataframe\">\n",
       "  <thead>\n",
       "    <tr style=\"text-align: right;\">\n",
       "      <th></th>\n",
       "      <th>x</th>\n",
       "      <th>trend</th>\n",
       "      <th>y</th>\n",
       "    </tr>\n",
       "  </thead>\n",
       "  <tbody>\n",
       "    <tr>\n",
       "      <th>0</th>\n",
       "      <td>-3.00</td>\n",
       "      <td>4.750</td>\n",
       "      <td>6.030315</td>\n",
       "    </tr>\n",
       "    <tr>\n",
       "      <th>1</th>\n",
       "      <td>-2.25</td>\n",
       "      <td>3.625</td>\n",
       "      <td>1.457911</td>\n",
       "    </tr>\n",
       "    <tr>\n",
       "      <th>2</th>\n",
       "      <td>-1.50</td>\n",
       "      <td>2.500</td>\n",
       "      <td>2.388383</td>\n",
       "    </tr>\n",
       "    <tr>\n",
       "      <th>3</th>\n",
       "      <td>-0.75</td>\n",
       "      <td>1.375</td>\n",
       "      <td>0.007815</td>\n",
       "    </tr>\n",
       "    <tr>\n",
       "      <th>4</th>\n",
       "      <td>0.00</td>\n",
       "      <td>0.250</td>\n",
       "      <td>0.651244</td>\n",
       "    </tr>\n",
       "    <tr>\n",
       "      <th>5</th>\n",
       "      <td>0.75</td>\n",
       "      <td>-0.875</td>\n",
       "      <td>-2.254007</td>\n",
       "    </tr>\n",
       "    <tr>\n",
       "      <th>6</th>\n",
       "      <td>1.50</td>\n",
       "      <td>-2.000</td>\n",
       "      <td>-2.969992</td>\n",
       "    </tr>\n",
       "    <tr>\n",
       "      <th>7</th>\n",
       "      <td>2.25</td>\n",
       "      <td>-3.125</td>\n",
       "      <td>-3.537097</td>\n",
       "    </tr>\n",
       "    <tr>\n",
       "      <th>8</th>\n",
       "      <td>3.00</td>\n",
       "      <td>-4.250</td>\n",
       "      <td>-6.063282</td>\n",
       "    </tr>\n",
       "  </tbody>\n",
       "</table>\n",
       "</div>"
      ],
      "text/plain": [
       "      x  trend         y\n",
       "0 -3.00  4.750  6.030315\n",
       "1 -2.25  3.625  1.457911\n",
       "2 -1.50  2.500  2.388383\n",
       "3 -0.75  1.375  0.007815\n",
       "4  0.00  0.250  0.651244\n",
       "5  0.75 -0.875 -2.254007\n",
       "6  1.50 -2.000 -2.969992\n",
       "7  2.25 -3.125 -3.537097\n",
       "8  3.00 -4.250 -6.063282"
      ]
     },
     "execution_count": 21,
     "metadata": {},
     "output_type": "execute_result"
    }
   ],
   "source": [
    "df"
   ]
  },
  {
   "cell_type": "markdown",
   "id": "2da8b9c8-57c5-4449-8ae6-7929b19141a6",
   "metadata": {},
   "source": [
    "Visualize the randomly generated output around the TREND."
   ]
  },
  {
   "cell_type": "code",
   "execution_count": 22,
   "id": "b636bad6-b03d-41b7-aae3-14ff3a8cae93",
   "metadata": {},
   "outputs": [
    {
     "data": {
      "image/png": "[encoded data removed]",
      "text/plain": [
       "<Figure size 640x480 with 1 Axes>"
      ]
     },
     "metadata": {},
     "output_type": "display_data"
    }
   ],
   "source": [
    "fig, ax = plt.subplots()\n",
    "\n",
    "# TRUE TREND\n",
    "ax.plot( df_rand.x, df_rand.trend, color='crimson', linewidth=1.5 )\n",
    "\n",
    "# TRUE variation around the TREND - showing 2 intervals\n",
    "# 2 sigma interval\n",
    "ax.fill_between( df_rand.x, df_rand.obs_lwr_95, df_rand.obs_upr_95, facecolor='crimson', alpha=0.35 )\n",
    "\n",
    "# 1 sigma interval\n",
    "ax.fill_between( df_rand.x, df_rand.obs_lwr_68, df_rand.obs_upr_68, facecolor='crimson', alpha=0.35)\n",
    "\n",
    "# include the randomly generated small data set as a scatter plot\n",
    "ax.scatter( df.x, df.y, color='k' )\n",
    "\n",
    "# set labels\n",
    "ax.set_xlabel('x')\n",
    "ax.set_ylabel('y')\n",
    "\n",
    "# show the plot\n",
    "plt.show()"
   ]
  },
  {
   "cell_type": "markdown",
   "id": "6750b95b-7d03-42c6-ac2e-42ac067ae1f3",
   "metadata": {},
   "source": [
    "With this small dataset, we can ultimately FIT models to it. But, for bookkeeping purposes let's store the TRUE coefficients and SIGMA that generated data."
   ]
  },
  {
   "cell_type": "code",
   "execution_count": 23,
   "id": "ee87b090-f778-4283-9f3c-86e041a0017a",
   "metadata": {},
   "outputs": [],
   "source": [
    "df['true_intercept'] = my_intercept"
   ]
  },
  {
   "cell_type": "code",
   "execution_count": 24,
   "id": "debd1429-073a-459a-95a9-5c4fd9fccd74",
   "metadata": {},
   "outputs": [],
   "source": [
    "df['true_slope'] = my_slope"
   ]
  },
  {
   "cell_type": "code",
   "execution_count": 25,
   "id": "a92464f2-021a-4ca0-9e0f-823cd3d54d7e",
   "metadata": {},
   "outputs": [],
   "source": [
    "df['true_sigma'] = my_sigma"
   ]
  },
  {
   "cell_type": "code",
   "execution_count": 26,
   "id": "7e755a63-024c-4fa1-b1a9-ac6e5a53edd3",
   "metadata": {},
   "outputs": [
    {
     "data": {
      "text/html": [
       "<div>\n",
       "<style scoped>\n",
       "    .dataframe tbody tr th:only-of-type {\n",
       "        vertical-align: middle;\n",
       "    }\n",
       "\n",
       "    .dataframe tbody tr th {\n",
       "        vertical-align: top;\n",
       "    }\n",
       "\n",
       "    .dataframe thead th {\n",
       "        text-align: right;\n",
       "    }\n",
       "</style>\n",
       "<table border=\"1\" class=\"dataframe\">\n",
       "  <thead>\n",
       "    <tr style=\"text-align: right;\">\n",
       "      <th></th>\n",
       "      <th>x</th>\n",
       "      <th>trend</th>\n",
       "      <th>y</th>\n",
       "      <th>true_intercept</th>\n",
       "      <th>true_slope</th>\n",
       "      <th>true_sigma</th>\n",
       "    </tr>\n",
       "  </thead>\n",
       "  <tbody>\n",
       "    <tr>\n",
       "      <th>0</th>\n",
       "      <td>-3.00</td>\n",
       "      <td>4.750</td>\n",
       "      <td>6.030315</td>\n",
       "      <td>0.25</td>\n",
       "      <td>-1.5</td>\n",
       "      <td>1.25</td>\n",
       "    </tr>\n",
       "    <tr>\n",
       "      <th>1</th>\n",
       "      <td>-2.25</td>\n",
       "      <td>3.625</td>\n",
       "      <td>1.457911</td>\n",
       "      <td>0.25</td>\n",
       "      <td>-1.5</td>\n",
       "      <td>1.25</td>\n",
       "    </tr>\n",
       "    <tr>\n",
       "      <th>2</th>\n",
       "      <td>-1.50</td>\n",
       "      <td>2.500</td>\n",
       "      <td>2.388383</td>\n",
       "      <td>0.25</td>\n",
       "      <td>-1.5</td>\n",
       "      <td>1.25</td>\n",
       "    </tr>\n",
       "    <tr>\n",
       "      <th>3</th>\n",
       "      <td>-0.75</td>\n",
       "      <td>1.375</td>\n",
       "      <td>0.007815</td>\n",
       "      <td>0.25</td>\n",
       "      <td>-1.5</td>\n",
       "      <td>1.25</td>\n",
       "    </tr>\n",
       "    <tr>\n",
       "      <th>4</th>\n",
       "      <td>0.00</td>\n",
       "      <td>0.250</td>\n",
       "      <td>0.651244</td>\n",
       "      <td>0.25</td>\n",
       "      <td>-1.5</td>\n",
       "      <td>1.25</td>\n",
       "    </tr>\n",
       "    <tr>\n",
       "      <th>5</th>\n",
       "      <td>0.75</td>\n",
       "      <td>-0.875</td>\n",
       "      <td>-2.254007</td>\n",
       "      <td>0.25</td>\n",
       "      <td>-1.5</td>\n",
       "      <td>1.25</td>\n",
       "    </tr>\n",
       "    <tr>\n",
       "      <th>6</th>\n",
       "      <td>1.50</td>\n",
       "      <td>-2.000</td>\n",
       "      <td>-2.969992</td>\n",
       "      <td>0.25</td>\n",
       "      <td>-1.5</td>\n",
       "      <td>1.25</td>\n",
       "    </tr>\n",
       "    <tr>\n",
       "      <th>7</th>\n",
       "      <td>2.25</td>\n",
       "      <td>-3.125</td>\n",
       "      <td>-3.537097</td>\n",
       "      <td>0.25</td>\n",
       "      <td>-1.5</td>\n",
       "      <td>1.25</td>\n",
       "    </tr>\n",
       "    <tr>\n",
       "      <th>8</th>\n",
       "      <td>3.00</td>\n",
       "      <td>-4.250</td>\n",
       "      <td>-6.063282</td>\n",
       "      <td>0.25</td>\n",
       "      <td>-1.5</td>\n",
       "      <td>1.25</td>\n",
       "    </tr>\n",
       "  </tbody>\n",
       "</table>\n",
       "</div>"
      ],
      "text/plain": [
       "      x  trend         y  true_intercept  true_slope  true_sigma\n",
       "0 -3.00  4.750  6.030315            0.25        -1.5        1.25\n",
       "1 -2.25  3.625  1.457911            0.25        -1.5        1.25\n",
       "2 -1.50  2.500  2.388383            0.25        -1.5        1.25\n",
       "3 -0.75  1.375  0.007815            0.25        -1.5        1.25\n",
       "4  0.00  0.250  0.651244            0.25        -1.5        1.25\n",
       "5  0.75 -0.875 -2.254007            0.25        -1.5        1.25\n",
       "6  1.50 -2.000 -2.969992            0.25        -1.5        1.25\n",
       "7  2.25 -3.125 -3.537097            0.25        -1.5        1.25\n",
       "8  3.00 -4.250 -6.063282            0.25        -1.5        1.25"
      ]
     },
     "execution_count": 26,
     "metadata": {},
     "output_type": "execute_result"
    }
   ],
   "source": [
    "df"
   ]
  },
  {
   "cell_type": "markdown",
   "id": "bdcfc5e1-05be-4b7b-8dac-ee1041e76c88",
   "metadata": {},
   "source": [
    "## Fit the linear model"
   ]
  },
  {
   "cell_type": "code",
   "execution_count": 27,
   "id": "24a4e22a-0f5d-4f16-9d65-84fbed47c433",
   "metadata": {},
   "outputs": [],
   "source": [
    "# Fit the linear model between the single input x and the mean output y\n",
    "lm_fit = smf.ols(formula='y ~ x', data=df).fit()"
   ]
  },
  {
   "cell_type": "code",
   "execution_count": 28,
   "id": "10196fe4-2d56-475c-84c8-a92489fa7766",
   "metadata": {},
   "outputs": [
    {
     "data": {
      "text/plain": [
       "Intercept   -0.476523\n",
       "x           -1.696400\n",
       "dtype: float64"
      ]
     },
     "execution_count": 28,
     "metadata": {},
     "output_type": "execute_result"
    }
   ],
   "source": [
    "# Check the estimates parameters\n",
    "lm_fit.params"
   ]
  },
  {
   "cell_type": "code",
   "execution_count": 29,
   "id": "be8361e1-b7c1-4d89-9e88-555430e9e96e",
   "metadata": {},
   "outputs": [
    {
     "data": {
      "text/plain": [
       "Intercept    0.370031\n",
       "x            0.191083\n",
       "dtype: float64"
      ]
     },
     "execution_count": 29,
     "metadata": {},
     "output_type": "execute_result"
    }
   ],
   "source": [
    "# Check the std error (beta std error)\n",
    "lm_fit.bse"
   ]
  },
  {
   "cell_type": "code",
   "execution_count": 30,
   "id": "775614ef-f7b9-41a4-a590-54404c5d7f90",
   "metadata": {},
   "outputs": [
    {
     "data": {
      "text/plain": [
       "Intercept    0.238754\n",
       "x            0.000047\n",
       "dtype: float64"
      ]
     },
     "execution_count": 30,
     "metadata": {},
     "output_type": "execute_result"
    }
   ],
   "source": [
    "# Check the pvalues\n",
    "lm_fit.pvalues"
   ]
  },
  {
   "cell_type": "code",
   "execution_count": 31,
   "id": "5cfca141-6095-4a55-bb60-340ad8262ceb",
   "metadata": {},
   "outputs": [
    {
     "data": {
      "text/html": [
       "<div>\n",
       "<style scoped>\n",
       "    .dataframe tbody tr th:only-of-type {\n",
       "        vertical-align: middle;\n",
       "    }\n",
       "\n",
       "    .dataframe tbody tr th {\n",
       "        vertical-align: top;\n",
       "    }\n",
       "\n",
       "    .dataframe thead th {\n",
       "        text-align: right;\n",
       "    }\n",
       "</style>\n",
       "<table border=\"1\" class=\"dataframe\">\n",
       "  <thead>\n",
       "    <tr style=\"text-align: right;\">\n",
       "      <th></th>\n",
       "      <th>ci_lower</th>\n",
       "      <th>ci_upper</th>\n",
       "    </tr>\n",
       "  </thead>\n",
       "  <tbody>\n",
       "    <tr>\n",
       "      <th>Intercept</th>\n",
       "      <td>-1.351507</td>\n",
       "      <td>0.39846</td>\n",
       "    </tr>\n",
       "    <tr>\n",
       "      <th>x</th>\n",
       "      <td>-2.148239</td>\n",
       "      <td>-1.24456</td>\n",
       "    </tr>\n",
       "  </tbody>\n",
       "</table>\n",
       "</div>"
      ],
      "text/plain": [
       "           ci_lower  ci_upper\n",
       "Intercept -1.351507   0.39846\n",
       "x         -2.148239  -1.24456"
      ]
     },
     "execution_count": 31,
     "metadata": {},
     "output_type": "execute_result"
    }
   ],
   "source": [
    "# check the confidence interval and rename c. interval column names \n",
    "lm_fit.conf_int().rename(columns={0: 'ci_lower', 1: 'ci_upper'})"
   ]
  },
  {
   "cell_type": "markdown",
   "id": "99368fdf-1538-4742-8fab-aa244a98f065",
   "metadata": {},
   "source": [
    "### Making predictions\n",
    "You will often make your data to study predictions using a number generator. This is usually your training data\n",
    "\n",
    "### Create Training Dataset"
   ]
  },
  {
   "cell_type": "code",
   "execution_count": 32,
   "id": "42c05ec6-15bd-4a1f-a83d-9aff652ecae8",
   "metadata": {},
   "outputs": [],
   "source": [
    "# Generate training data and define the bounds then assign it to a af\n",
    "df_viz = pd.DataFrame({'x': np.linspace(df.x.min()-0.1,  df.x.max()+0.1, num=101)})\n"
   ]
  },
  {
   "cell_type": "code",
   "execution_count": 33,
   "id": "b11e3f58-4864-4a4f-b585-af3159ea9b45",
   "metadata": {},
   "outputs": [
    {
     "data": {
      "text/html": [
       "<div>\n",
       "<style scoped>\n",
       "    .dataframe tbody tr th:only-of-type {\n",
       "        vertical-align: middle;\n",
       "    }\n",
       "\n",
       "    .dataframe tbody tr th {\n",
       "        vertical-align: top;\n",
       "    }\n",
       "\n",
       "    .dataframe thead th {\n",
       "        text-align: right;\n",
       "    }\n",
       "</style>\n",
       "<table border=\"1\" class=\"dataframe\">\n",
       "  <thead>\n",
       "    <tr style=\"text-align: right;\">\n",
       "      <th></th>\n",
       "      <th>x</th>\n",
       "    </tr>\n",
       "  </thead>\n",
       "  <tbody>\n",
       "    <tr>\n",
       "      <th>0</th>\n",
       "      <td>-3.100</td>\n",
       "    </tr>\n",
       "    <tr>\n",
       "      <th>1</th>\n",
       "      <td>-3.038</td>\n",
       "    </tr>\n",
       "    <tr>\n",
       "      <th>2</th>\n",
       "      <td>-2.976</td>\n",
       "    </tr>\n",
       "    <tr>\n",
       "      <th>3</th>\n",
       "      <td>-2.914</td>\n",
       "    </tr>\n",
       "    <tr>\n",
       "      <th>4</th>\n",
       "      <td>-2.852</td>\n",
       "    </tr>\n",
       "    <tr>\n",
       "      <th>...</th>\n",
       "      <td>...</td>\n",
       "    </tr>\n",
       "    <tr>\n",
       "      <th>96</th>\n",
       "      <td>2.852</td>\n",
       "    </tr>\n",
       "    <tr>\n",
       "      <th>97</th>\n",
       "      <td>2.914</td>\n",
       "    </tr>\n",
       "    <tr>\n",
       "      <th>98</th>\n",
       "      <td>2.976</td>\n",
       "    </tr>\n",
       "    <tr>\n",
       "      <th>99</th>\n",
       "      <td>3.038</td>\n",
       "    </tr>\n",
       "    <tr>\n",
       "      <th>100</th>\n",
       "      <td>3.100</td>\n",
       "    </tr>\n",
       "  </tbody>\n",
       "</table>\n",
       "<p>101 rows × 1 columns</p>\n",
       "</div>"
      ],
      "text/plain": [
       "         x\n",
       "0   -3.100\n",
       "1   -3.038\n",
       "2   -2.976\n",
       "3   -2.914\n",
       "4   -2.852\n",
       "..     ...\n",
       "96   2.852\n",
       "97   2.914\n",
       "98   2.976\n",
       "99   3.038\n",
       "100  3.100\n",
       "\n",
       "[101 rows x 1 columns]"
      ]
     },
     "execution_count": 33,
     "metadata": {},
     "output_type": "execute_result"
    }
   ],
   "source": [
    "# Preview the training data\n",
    "df_viz"
   ]
  },
  {
   "cell_type": "code",
   "execution_count": 34,
   "id": "e5eee896-f811-4ce1-8edf-577ea5909a1c",
   "metadata": {},
   "outputs": [],
   "source": [
    "# Make the prediction and assign to it an object\n",
    "# Note! you will almost always use the Fitted linear data model to make predictions\n",
    "# And pass in the target df for predictions\n",
    "# This will generate a pandas Series\n",
    "\n",
    "lm_predict = lm_fit.predict(df_viz)"
   ]
  },
  {
   "cell_type": "code",
   "execution_count": 35,
   "id": "4c965f69-1ffa-405a-8306-7934c7aa8d89",
   "metadata": {},
   "outputs": [
    {
     "data": {
      "text/plain": [
       "pandas.core.series.Series"
      ]
     },
     "execution_count": 35,
     "metadata": {},
     "output_type": "execute_result"
    }
   ],
   "source": [
    "type(lm_predict)"
   ]
  },
  {
   "cell_type": "code",
   "execution_count": 36,
   "id": "4b3d6a41-abe4-4725-b5a4-8fdd41a0c3b7",
   "metadata": {},
   "outputs": [
    {
     "data": {
      "text/plain": [
       "0      4.782316\n",
       "1      4.677139\n",
       "2      4.571962\n",
       "3      4.466785\n",
       "4      4.361608\n",
       "         ...   \n",
       "96    -5.314655\n",
       "97    -5.419832\n",
       "98    -5.525008\n",
       "99    -5.630185\n",
       "100   -5.735362\n",
       "Length: 101, dtype: float64"
      ]
     },
     "execution_count": 36,
     "metadata": {},
     "output_type": "execute_result"
    }
   ],
   "source": [
    "lm_predict"
   ]
  },
  {
   "cell_type": "code",
   "execution_count": 37,
   "id": "8b8a5fcd-ed5e-4ee6-9e75-2df489273b69",
   "metadata": {},
   "outputs": [
    {
     "data": {
      "text/plain": [
       "101"
      ]
     },
     "execution_count": 37,
     "metadata": {},
     "output_type": "execute_result"
    }
   ],
   "source": [
    "# Check the number of prdiction data points or rows in the new dataset\n",
    "lm_predict.size"
   ]
  },
  {
   "cell_type": "code",
   "execution_count": 38,
   "id": "10cb3147-2210-4962-803c-52ff23486385",
   "metadata": {},
   "outputs": [],
   "source": [
    "# Make a copy of the viz df and aadd the prediction column to the copy\n",
    "df_viz_copy = df_viz\n",
    "df_viz_copy['pred_trend'] = lm_predict"
   ]
  },
  {
   "cell_type": "code",
   "execution_count": 39,
   "id": "276053ca-d562-4c22-b4a4-eef51a896c72",
   "metadata": {},
   "outputs": [
    {
     "data": {
      "text/html": [
       "<div>\n",
       "<style scoped>\n",
       "    .dataframe tbody tr th:only-of-type {\n",
       "        vertical-align: middle;\n",
       "    }\n",
       "\n",
       "    .dataframe tbody tr th {\n",
       "        vertical-align: top;\n",
       "    }\n",
       "\n",
       "    .dataframe thead th {\n",
       "        text-align: right;\n",
       "    }\n",
       "</style>\n",
       "<table border=\"1\" class=\"dataframe\">\n",
       "  <thead>\n",
       "    <tr style=\"text-align: right;\">\n",
       "      <th></th>\n",
       "      <th>x</th>\n",
       "      <th>pred_trend</th>\n",
       "    </tr>\n",
       "  </thead>\n",
       "  <tbody>\n",
       "    <tr>\n",
       "      <th>0</th>\n",
       "      <td>-3.100</td>\n",
       "      <td>4.782316</td>\n",
       "    </tr>\n",
       "    <tr>\n",
       "      <th>1</th>\n",
       "      <td>-3.038</td>\n",
       "      <td>4.677139</td>\n",
       "    </tr>\n",
       "    <tr>\n",
       "      <th>2</th>\n",
       "      <td>-2.976</td>\n",
       "      <td>4.571962</td>\n",
       "    </tr>\n",
       "    <tr>\n",
       "      <th>3</th>\n",
       "      <td>-2.914</td>\n",
       "      <td>4.466785</td>\n",
       "    </tr>\n",
       "    <tr>\n",
       "      <th>4</th>\n",
       "      <td>-2.852</td>\n",
       "      <td>4.361608</td>\n",
       "    </tr>\n",
       "    <tr>\n",
       "      <th>...</th>\n",
       "      <td>...</td>\n",
       "      <td>...</td>\n",
       "    </tr>\n",
       "    <tr>\n",
       "      <th>96</th>\n",
       "      <td>2.852</td>\n",
       "      <td>-5.314655</td>\n",
       "    </tr>\n",
       "    <tr>\n",
       "      <th>97</th>\n",
       "      <td>2.914</td>\n",
       "      <td>-5.419832</td>\n",
       "    </tr>\n",
       "    <tr>\n",
       "      <th>98</th>\n",
       "      <td>2.976</td>\n",
       "      <td>-5.525008</td>\n",
       "    </tr>\n",
       "    <tr>\n",
       "      <th>99</th>\n",
       "      <td>3.038</td>\n",
       "      <td>-5.630185</td>\n",
       "    </tr>\n",
       "    <tr>\n",
       "      <th>100</th>\n",
       "      <td>3.100</td>\n",
       "      <td>-5.735362</td>\n",
       "    </tr>\n",
       "  </tbody>\n",
       "</table>\n",
       "<p>101 rows × 2 columns</p>\n",
       "</div>"
      ],
      "text/plain": [
       "         x  pred_trend\n",
       "0   -3.100    4.782316\n",
       "1   -3.038    4.677139\n",
       "2   -2.976    4.571962\n",
       "3   -2.914    4.466785\n",
       "4   -2.852    4.361608\n",
       "..     ...         ...\n",
       "96   2.852   -5.314655\n",
       "97   2.914   -5.419832\n",
       "98   2.976   -5.525008\n",
       "99   3.038   -5.630185\n",
       "100  3.100   -5.735362\n",
       "\n",
       "[101 rows x 2 columns]"
      ]
     },
     "execution_count": 39,
     "metadata": {},
     "output_type": "execute_result"
    }
   ],
   "source": [
    "# Now you have what is predicted from yor model\n",
    "df_viz_copy"
   ]
  },
  {
   "cell_type": "code",
   "execution_count": 40,
   "id": "2ef57fbf-5779-4405-aea2-5825d235d23d",
   "metadata": {},
   "outputs": [
    {
     "data": {
      "image/png": "[encoded data removed]",
      "text/plain": [
       "<Figure size 640x480 with 1 Axes>"
      ]
     },
     "metadata": {},
     "output_type": "display_data"
    }
   ],
   "source": [
    "# Visualize what is being predicted (Predicted Trend) given the dataset input (x)\n",
    "# You can do this with matplotlib\n",
    "\n",
    "fig, ax = plt.subplots()\n",
    "ax.plot(df_viz_copy.x, df_viz_copy.pred_trend, color='b')\n",
    "ax.set_xlabel('x')\n",
    "ax.set_ylabel('trend')\n",
    "plt.show()\n",
    "\n",
    "# Now you have your predicted trend"
   ]
  },
  {
   "cell_type": "code",
   "execution_count": 41,
   "id": "5fe50053-feb1-4903-8be0-46073560e613",
   "metadata": {},
   "outputs": [
    {
     "data": {
      "image/png": "[encoded data removed]",
      "text/plain": [
       "<Figure size 640x480 with 1 Axes>"
      ]
     },
     "metadata": {},
     "output_type": "display_data"
    }
   ],
   "source": [
    "# Next include the training data set as a scatter plot to viz the relationship\n",
    "fig, ax = plt.subplots()\n",
    "ax.plot(df_viz_copy.x, df_viz_copy.pred_trend, color='b') # predicted trend data\n",
    "ax.scatter(df.x, df.y, color='r') # training set (Observed data)\n",
    "ax.set_xlabel('x')\n",
    "ax.set_ylabel('y')\n",
    "\n",
    "plt.show()"
   ]
  },
  {
   "cell_type": "markdown",
   "id": "1a692e31-3b62-4cd6-b71f-096f76710f1b",
   "metadata": {},
   "source": [
    "The predicted trend line runs through the scatter of observed data, attempting to find the best fit. Since we generated the observed data with a constant true trend and intercept, we already know their values. This allows us to compare the true trend and intercept with the estimates derived from the data.\n"
   ]
  },
  {
   "cell_type": "code",
   "execution_count": 42,
   "id": "e90efd9b-33b7-4629-97a1-e0c0ce4147bf",
   "metadata": {},
   "outputs": [],
   "source": [
    "my_intercept = np.unique(df.true_intercept)\n",
    "my_slope = np.unique(df.true_slope)"
   ]
  },
  {
   "cell_type": "code",
   "execution_count": 43,
   "id": "bd014476-5c47-49b5-bd74-1fcd3ff6e9cb",
   "metadata": {},
   "outputs": [
    {
     "data": {
      "text/plain": [
       "array([0.25])"
      ]
     },
     "execution_count": 43,
     "metadata": {},
     "output_type": "execute_result"
    }
   ],
   "source": [
    "my_intercept"
   ]
  },
  {
   "cell_type": "code",
   "execution_count": 44,
   "id": "54cdcffd-8095-45ee-a82d-01a77500bb7e",
   "metadata": {},
   "outputs": [
    {
     "data": {
      "text/plain": [
       "array([-1.5])"
      ]
     },
     "execution_count": 44,
     "metadata": {},
     "output_type": "execute_result"
    }
   ],
   "source": [
    "my_slope"
   ]
  },
  {
   "cell_type": "code",
   "execution_count": 45,
   "id": "042ddc43-e8f3-4854-9853-64724c8d71f1",
   "metadata": {},
   "outputs": [
    {
     "data": {
      "image/png": "[encoded data removed]",
      "text/plain": [
       "<Figure size 640x480 with 1 Axes>"
      ]
     },
     "metadata": {},
     "output_type": "display_data"
    }
   ],
   "source": [
    "# Now visualize the relationship between the true_trend (true mean) and the input with the predicted trend (mean)\n",
    "fig, ax = plt.subplots()\n",
    "\n",
    "ax.plot(df_viz_copy.x, df_viz_copy.pred_trend, color='b', label='model') # predicted trend data MODEL (Blue line)\n",
    "\n",
    "ax.plot(df_viz_copy.x, my_intercept + my_slope * df_viz_copy.x, color='crimson', label='truth') # the true model an input linear model (mu = B0 + B1 * x) relationship\n",
    "\n",
    "ax.scatter(df.x, df.y, color='k') # training set (Observed data)\n",
    "\n",
    "ax.set_xlabel('x')\n",
    "ax.set_ylabel('y')\n",
    "ax.legend()\n",
    "\n",
    "plt.show()"
   ]
  },
  {
   "cell_type": "markdown",
   "id": "0e5cf927-c3b1-4aea-889f-4ba64f6c5844",
   "metadata": {},
   "source": [
    "Here, the red trend line represents the relationship between the trend (average output) and the input. Since this model is based on only nine samples, it is not perfect. Therefore, we must always account for and represent the uncertainty in the trend given the fitted data. Hence, To express the uncertainty or the confidence interval on the mean, we will use a two-step process with the `statsmodels` library to extract the predicted uncertainty for the predictions."
   ]
  },
  {
   "cell_type": "code",
   "execution_count": 46,
   "id": "0d1e3c21-ef55-4321-bfee-a64557daa82b",
   "metadata": {},
   "outputs": [],
   "source": [
    "# Step 1: Call the .get_prediction() method on the fitted object lm_fit\n",
    "# Assign to an object\n",
    "predictions = lm_fit.get_prediction(df_viz)"
   ]
  },
  {
   "cell_type": "code",
   "execution_count": 47,
   "id": "73635a2f-1fb5-4304-9e54-52c15c50f776",
   "metadata": {},
   "outputs": [
    {
     "data": {
      "text/plain": [
       "statsmodels.regression._prediction.PredictionResults"
      ]
     },
     "execution_count": 47,
     "metadata": {},
     "output_type": "execute_result"
    }
   ],
   "source": [
    "type(predictions)"
   ]
  },
  {
   "cell_type": "code",
   "execution_count": 48,
   "id": "1f43c9b0-19da-49de-9695-b57009872788",
   "metadata": {},
   "outputs": [],
   "source": [
    "# Step 2: Apply the .summary_frame() method on the prediction object\n",
    "# This will generate a data frame\n",
    "lm_pred_summary_df = predictions.summary_frame()"
   ]
  },
  {
   "cell_type": "code",
   "execution_count": 49,
   "id": "ee96f3a1-bfc5-46c7-a49b-1ea8fb143813",
   "metadata": {},
   "outputs": [
    {
     "data": {
      "text/html": [
       "<div>\n",
       "<style scoped>\n",
       "    .dataframe tbody tr th:only-of-type {\n",
       "        vertical-align: middle;\n",
       "    }\n",
       "\n",
       "    .dataframe tbody tr th {\n",
       "        vertical-align: top;\n",
       "    }\n",
       "\n",
       "    .dataframe thead th {\n",
       "        text-align: right;\n",
       "    }\n",
       "</style>\n",
       "<table border=\"1\" class=\"dataframe\">\n",
       "  <thead>\n",
       "    <tr style=\"text-align: right;\">\n",
       "      <th></th>\n",
       "      <th>mean</th>\n",
       "      <th>mean_se</th>\n",
       "      <th>mean_ci_lower</th>\n",
       "      <th>mean_ci_upper</th>\n",
       "      <th>obs_ci_lower</th>\n",
       "      <th>obs_ci_upper</th>\n",
       "    </tr>\n",
       "  </thead>\n",
       "  <tbody>\n",
       "    <tr>\n",
       "      <th>0</th>\n",
       "      <td>4.782316</td>\n",
       "      <td>0.698434</td>\n",
       "      <td>3.130782</td>\n",
       "      <td>6.433850</td>\n",
       "      <td>1.681036</td>\n",
       "      <td>7.883595</td>\n",
       "    </tr>\n",
       "    <tr>\n",
       "      <th>1</th>\n",
       "      <td>4.677139</td>\n",
       "      <td>0.688415</td>\n",
       "      <td>3.049296</td>\n",
       "      <td>6.304981</td>\n",
       "      <td>1.588411</td>\n",
       "      <td>7.765866</td>\n",
       "    </tr>\n",
       "    <tr>\n",
       "      <th>2</th>\n",
       "      <td>4.571962</td>\n",
       "      <td>0.678455</td>\n",
       "      <td>2.967672</td>\n",
       "      <td>6.176252</td>\n",
       "      <td>1.495582</td>\n",
       "      <td>7.648342</td>\n",
       "    </tr>\n",
       "    <tr>\n",
       "      <th>3</th>\n",
       "      <td>4.466785</td>\n",
       "      <td>0.668556</td>\n",
       "      <td>2.885902</td>\n",
       "      <td>6.047668</td>\n",
       "      <td>1.402546</td>\n",
       "      <td>7.531024</td>\n",
       "    </tr>\n",
       "    <tr>\n",
       "      <th>4</th>\n",
       "      <td>4.361608</td>\n",
       "      <td>0.658721</td>\n",
       "      <td>2.803980</td>\n",
       "      <td>5.919237</td>\n",
       "      <td>1.309302</td>\n",
       "      <td>7.413915</td>\n",
       "    </tr>\n",
       "    <tr>\n",
       "      <th>...</th>\n",
       "      <td>...</td>\n",
       "      <td>...</td>\n",
       "      <td>...</td>\n",
       "      <td>...</td>\n",
       "      <td>...</td>\n",
       "      <td>...</td>\n",
       "    </tr>\n",
       "    <tr>\n",
       "      <th>96</th>\n",
       "      <td>-5.314655</td>\n",
       "      <td>0.658721</td>\n",
       "      <td>-6.872283</td>\n",
       "      <td>-3.757026</td>\n",
       "      <td>-8.366961</td>\n",
       "      <td>-2.262349</td>\n",
       "    </tr>\n",
       "    <tr>\n",
       "      <th>97</th>\n",
       "      <td>-5.419832</td>\n",
       "      <td>0.668556</td>\n",
       "      <td>-7.000715</td>\n",
       "      <td>-3.838948</td>\n",
       "      <td>-8.484070</td>\n",
       "      <td>-2.355593</td>\n",
       "    </tr>\n",
       "    <tr>\n",
       "      <th>98</th>\n",
       "      <td>-5.525008</td>\n",
       "      <td>0.678455</td>\n",
       "      <td>-7.129298</td>\n",
       "      <td>-3.920718</td>\n",
       "      <td>-8.601388</td>\n",
       "      <td>-2.448628</td>\n",
       "    </tr>\n",
       "    <tr>\n",
       "      <th>99</th>\n",
       "      <td>-5.630185</td>\n",
       "      <td>0.688415</td>\n",
       "      <td>-7.258028</td>\n",
       "      <td>-4.002343</td>\n",
       "      <td>-8.718913</td>\n",
       "      <td>-2.541458</td>\n",
       "    </tr>\n",
       "    <tr>\n",
       "      <th>100</th>\n",
       "      <td>-5.735362</td>\n",
       "      <td>0.698434</td>\n",
       "      <td>-7.386896</td>\n",
       "      <td>-4.083828</td>\n",
       "      <td>-8.836641</td>\n",
       "      <td>-2.634083</td>\n",
       "    </tr>\n",
       "  </tbody>\n",
       "</table>\n",
       "<p>101 rows × 6 columns</p>\n",
       "</div>"
      ],
      "text/plain": [
       "         mean   mean_se  mean_ci_lower  mean_ci_upper  obs_ci_lower  \\\n",
       "0    4.782316  0.698434       3.130782       6.433850      1.681036   \n",
       "1    4.677139  0.688415       3.049296       6.304981      1.588411   \n",
       "2    4.571962  0.678455       2.967672       6.176252      1.495582   \n",
       "3    4.466785  0.668556       2.885902       6.047668      1.402546   \n",
       "4    4.361608  0.658721       2.803980       5.919237      1.309302   \n",
       "..        ...       ...            ...            ...           ...   \n",
       "96  -5.314655  0.658721      -6.872283      -3.757026     -8.366961   \n",
       "97  -5.419832  0.668556      -7.000715      -3.838948     -8.484070   \n",
       "98  -5.525008  0.678455      -7.129298      -3.920718     -8.601388   \n",
       "99  -5.630185  0.688415      -7.258028      -4.002343     -8.718913   \n",
       "100 -5.735362  0.698434      -7.386896      -4.083828     -8.836641   \n",
       "\n",
       "     obs_ci_upper  \n",
       "0        7.883595  \n",
       "1        7.765866  \n",
       "2        7.648342  \n",
       "3        7.531024  \n",
       "4        7.413915  \n",
       "..            ...  \n",
       "96      -2.262349  \n",
       "97      -2.355593  \n",
       "98      -2.448628  \n",
       "99      -2.541458  \n",
       "100     -2.634083  \n",
       "\n",
       "[101 rows x 6 columns]"
      ]
     },
     "execution_count": 49,
     "metadata": {},
     "output_type": "execute_result"
    }
   ],
   "source": [
    "lm_pred_summary_df"
   ]
  },
  {
   "cell_type": "markdown",
   "id": "c277aa3f-fc5f-4f6d-b28f-c370ec298449",
   "metadata": {},
   "source": [
    "Here, we have rows representing prediction points and columns representing the trend (mean), the standard error of the mean, the lower and upper bounds of the 95% confidence interval for the trend (mean_ci_lower and mean_ci_upper), and the lower and upper bounds of the 95% confidence interval for the observations (obs_ci_lower and obs_ci_upper).\n",
    "\n",
    "With this information, we can visualize the 95% confidence interval of the trend output using ribbons."
   ]
  },
  {
   "cell_type": "code",
   "execution_count": 50,
   "id": "b554b63f-0a91-4d5c-af7c-3cd5d3eca5be",
   "metadata": {},
   "outputs": [
    {
     "data": {
      "image/png": "[encoded data removed]",
      "text/plain": [
       "<Figure size 640x480 with 1 Axes>"
      ]
     },
     "metadata": {},
     "output_type": "display_data"
    }
   ],
   "source": [
    "# Visualize the CI of the trend output\n",
    "\n",
    "fig, ax = plt.subplots()\n",
    "\n",
    "# confidence interval mean (trend) output\n",
    "ax.fill_between(df_viz_copy.x, \n",
    "                lm_pred_summary_df.mean_ci_lower, lm_pred_summary_df.mean_ci_upper, \n",
    "                facecolor='red', edgecolor='red', alpha=0.35, label='CI output' )\n",
    "\n",
    "# the best-fit line (this is the output mean of the predictive trend)\n",
    "ax.plot(df_viz_copy.x, lm_pred_summary_df['mean'], \n",
    "        color='k', lw=1.5, label='best fit model') # the name mean using bracket notation because .mean is a reserve kw.\n",
    "\n",
    "# Include the training data as a scatter plot \n",
    "ax.scatter(df.x, df.y, color='k', s=50)\n",
    "\n",
    "# set labels\n",
    "ax.set_xlabel('x')\n",
    "ax.set_ylabel('y')\n",
    "ax.legend()\n",
    "\n",
    "# show plot\n",
    "plt.show()\n"
   ]
  },
  {
   "cell_type": "markdown",
   "id": "164d8333-f901-42cd-8d59-c362410328f6",
   "metadata": {},
   "source": [
    "Now let's visualize with the true trend for context. To see how the predictive trend varies"
   ]
  },
  {
   "cell_type": "code",
   "execution_count": 51,
   "id": "b36bedf5-bef6-4e3c-a271-54935c41e2c0",
   "metadata": {},
   "outputs": [
    {
     "data": {
      "image/png": "[encoded data removed]",
      "text/plain": [
       "<Figure size 640x480 with 1 Axes>"
      ]
     },
     "metadata": {},
     "output_type": "display_data"
    }
   ],
   "source": [
    "# Visualize the CI of the trend output\n",
    "\n",
    "fig, ax = plt.subplots()\n",
    "\n",
    "# Include the true trend\n",
    "ax.plot(df_viz_copy.x, my_intercept + my_slope * df_viz_copy.x, \n",
    "        color='crimson', label='True Trend', linewidth=2.5) # This is the real relationship btw the mean output and the input\n",
    "\n",
    "# Plot confidence interval mean (trend) output as ribbon\n",
    "ax.fill_between(df_viz_copy.x, \n",
    "                lm_pred_summary_df.mean_ci_lower, lm_pred_summary_df.mean_ci_upper, \n",
    "                facecolor='blue', edgecolor='blue', alpha=0.45, label='Trend CI' )\n",
    "\n",
    "# the best-fit line (this is the output mean of the predictive trend)\n",
    "ax.plot(df_viz_copy.x, lm_pred_summary_df['mean'], # Using bracket notation for the mean because .mean is a reserve kw.\n",
    "        color='k', lw=1.5, label='Best fit') \n",
    "\n",
    "# Add the training data as a scatter plot \n",
    "ax.scatter(df.x, df.y, color='k', marker='v', s=50, label='training data')\n",
    "\n",
    "\n",
    "# set labels \n",
    "ax.set_xlabel('x')\n",
    "ax.set_ylabel('y')\n",
    "ax.legend()\n",
    "\n",
    "# show plot\n",
    "plt.show()\n"
   ]
  },
  {
   "cell_type": "markdown",
   "id": "85c31493-8d96-4caf-bfd6-e9b7f6b04d8e",
   "metadata": {},
   "source": [
    "Based on this, we acknowledge the uncertainty of the average outcome. However, the real answer lies within the 95% confidence interval ribbon. This indicates that, given our current data, we correctly identify that the average output `𝑦` decreases as the input `𝑥` increases. The relationship between output and input aligns with the true trend. If we were to collect more data, the best-fit line would improve, and the confidence interval would narrow. Thus, this primarily expresses the uncertainty of the average, which is the mean output."
   ]
  },
  {
   "cell_type": "markdown",
   "id": "247a7c7f-6586-4524-a139-9a80beda9e0c",
   "metadata": {},
   "source": [
    "Also, if you examine the data, you will notice levels of variability that the model cannot account for. These are unexplained variations, so the confidence interval (CI) does not represent this unexplained variability. Therefore, we also consider the sigma parameters, which are the uncertainty or CI of the observation, commonly known as the prediction interval (PI). The PI indicates where we believe a single measurement might fall. It is through the PI that we understand how uncertain we are about an individual data point, and this uncertainty is greater than the uncertainty in the trend (average). Let's take a closer look at this."
   ]
  },
  {
   "cell_type": "code",
   "execution_count": 52,
   "id": "c14372aa-5d10-429d-9bc9-8f302050bab4",
   "metadata": {},
   "outputs": [
    {
     "data": {
      "text/html": [
       "<div>\n",
       "<style scoped>\n",
       "    .dataframe tbody tr th:only-of-type {\n",
       "        vertical-align: middle;\n",
       "    }\n",
       "\n",
       "    .dataframe tbody tr th {\n",
       "        vertical-align: top;\n",
       "    }\n",
       "\n",
       "    .dataframe thead th {\n",
       "        text-align: right;\n",
       "    }\n",
       "</style>\n",
       "<table border=\"1\" class=\"dataframe\">\n",
       "  <thead>\n",
       "    <tr style=\"text-align: right;\">\n",
       "      <th></th>\n",
       "      <th>mean</th>\n",
       "      <th>mean_se</th>\n",
       "      <th>mean_ci_lower</th>\n",
       "      <th>mean_ci_upper</th>\n",
       "      <th>obs_ci_lower</th>\n",
       "      <th>obs_ci_upper</th>\n",
       "    </tr>\n",
       "  </thead>\n",
       "  <tbody>\n",
       "    <tr>\n",
       "      <th>0</th>\n",
       "      <td>4.782316</td>\n",
       "      <td>0.698434</td>\n",
       "      <td>3.130782</td>\n",
       "      <td>6.433850</td>\n",
       "      <td>1.681036</td>\n",
       "      <td>7.883595</td>\n",
       "    </tr>\n",
       "    <tr>\n",
       "      <th>1</th>\n",
       "      <td>4.677139</td>\n",
       "      <td>0.688415</td>\n",
       "      <td>3.049296</td>\n",
       "      <td>6.304981</td>\n",
       "      <td>1.588411</td>\n",
       "      <td>7.765866</td>\n",
       "    </tr>\n",
       "    <tr>\n",
       "      <th>2</th>\n",
       "      <td>4.571962</td>\n",
       "      <td>0.678455</td>\n",
       "      <td>2.967672</td>\n",
       "      <td>6.176252</td>\n",
       "      <td>1.495582</td>\n",
       "      <td>7.648342</td>\n",
       "    </tr>\n",
       "    <tr>\n",
       "      <th>3</th>\n",
       "      <td>4.466785</td>\n",
       "      <td>0.668556</td>\n",
       "      <td>2.885902</td>\n",
       "      <td>6.047668</td>\n",
       "      <td>1.402546</td>\n",
       "      <td>7.531024</td>\n",
       "    </tr>\n",
       "    <tr>\n",
       "      <th>4</th>\n",
       "      <td>4.361608</td>\n",
       "      <td>0.658721</td>\n",
       "      <td>2.803980</td>\n",
       "      <td>5.919237</td>\n",
       "      <td>1.309302</td>\n",
       "      <td>7.413915</td>\n",
       "    </tr>\n",
       "  </tbody>\n",
       "</table>\n",
       "</div>"
      ],
      "text/plain": [
       "       mean   mean_se  mean_ci_lower  mean_ci_upper  obs_ci_lower  \\\n",
       "0  4.782316  0.698434       3.130782       6.433850      1.681036   \n",
       "1  4.677139  0.688415       3.049296       6.304981      1.588411   \n",
       "2  4.571962  0.678455       2.967672       6.176252      1.495582   \n",
       "3  4.466785  0.668556       2.885902       6.047668      1.402546   \n",
       "4  4.361608  0.658721       2.803980       5.919237      1.309302   \n",
       "\n",
       "   obs_ci_upper  \n",
       "0      7.883595  \n",
       "1      7.765866  \n",
       "2      7.648342  \n",
       "3      7.531024  \n",
       "4      7.413915  "
      ]
     },
     "execution_count": 52,
     "metadata": {},
     "output_type": "execute_result"
    }
   ],
   "source": [
    "lm_pred_summary_df.head()"
   ]
  },
  {
   "cell_type": "markdown",
   "id": "b365c198-7b59-4d84-b893-c11248a6509d",
   "metadata": {},
   "source": [
    "From the data above, we see that the mean confidence interval (mean_ci) ranges from 3 to 6.4, while the prediction interval (obs_ci) spans from 1 to 7.9. This means there is a 95% chance that a single measurement will fall within the prediction interval bounds. In contrast, the CI of the mean indicates that there is a 95% chance that the average of the data points lies within the mean_ci bounds. Let's visualize this by adding the prediction interval as a second ribbon in the prediction model. Note that the PI should be set first because it is a wider interval."
   ]
  },
  {
   "cell_type": "code",
   "execution_count": 53,
   "id": "0b2545d6-c2fe-44fc-a3bd-29df1673f1f3",
   "metadata": {},
   "outputs": [
    {
     "data": {
      "image/png": "[encoded data removed]",
      "text/plain": [
       "<Figure size 640x480 with 1 Axes>"
      ]
     },
     "metadata": {},
     "output_type": "display_data"
    }
   ],
   "source": [
    "# Visualize the PI\n",
    "fig, ax = plt.subplots()\n",
    "\n",
    "# prediction interval - the uncertainty on a single observation (obs_ci)\n",
    "\n",
    "ax.fill_between(df_viz_copy.x, \n",
    "                lm_pred_summary_df.obs_ci_lower, lm_pred_summary_df.obs_ci_upper, \n",
    "                facecolor='orange', edgecolor='orange', alpha=0.35, label='PI output' )\n",
    "\n",
    "# confidence interval mean (trend) output\n",
    "ax.fill_between(df_viz_copy.x, \n",
    "                lm_pred_summary_df.mean_ci_lower, lm_pred_summary_df.mean_ci_upper, \n",
    "                facecolor='red', edgecolor='red', alpha=0.35, label='CI output' )\n",
    "\n",
    "# the best-fit line (this is the output mean of the predictive trend)\n",
    "ax.plot(df_viz_copy.x, lm_pred_summary_df['mean'], \n",
    "        color='k', lw=1.5, label='best fit model') # the name mean using bracket notation because .mean is a reserve kw.\n",
    "\n",
    "# Include the training data as a scatter plot \n",
    "ax.scatter(df.x, df.y, color='k', s=50)\n",
    "\n",
    "# set labels\n",
    "ax.set_xlabel('x')\n",
    "ax.set_ylabel('y')\n",
    "ax.legend()\n",
    "\n",
    "# show plot\n",
    "plt.show()"
   ]
  },
  {
   "cell_type": "markdown",
   "id": "5ee43ab3-09cb-414d-bdd3-1b968dd1a5af",
   "metadata": {},
   "source": [
    "## In Conclusion"
   ]
  },
  {
   "cell_type": "markdown",
   "id": "2ead9308-ded8-4424-95cc-9b77ef420ad7",
   "metadata": {},
   "source": [
    "You can see that the prediction interval (PI) remains a constant width, unlike the confidence interval (CI), which varies. The PI's width does not change because it represents the overall variability, attempting to approximate sigma. It indicates where individual data points can fall. For example, if we measure temperature data on one day, a hundred years in a row, and calculate the average of those one hundred measurements, the CI tells us where that average will likely be. Meanwhile, the PI tells us where a single measurement on any given day within those hundred years will fall with a 95% chance.\n",
    "\n",
    "The PI specifies where individual measurements will lie, not just where the average will be. Note that all regression models have two kinds of uncertainty: uncertainty about the average output, expressed with a confidence interval, and uncertainty about individual data points, expressed with a prediction interval.\n",
    "\n",
    "As a data scientist, it is essential to show both intervals for good linear predictions. This ensures our models can predict both the average outcome and individual data points, especially when dealing with real-world data. This approach enhances the trustworthiness of the model's predictions.\n",
    "\n",
    "The main purpose of this mini-project is to demonstrate how to generate data, make predictions, study output trends, and express uncertainty for both the average output and individual measurements."
   ]
  }
 ],
 "metadata": {
  "kernelspec": {
   "display_name": "Python 3 (ipykernel)",
   "language": "python",
   "name": "python3"
  },
  "language_info": {
   "codemirror_mode": {
    "name": "ipython",
    "version": 3
   },
   "file_extension": ".py",
   "mimetype": "text/x-python",
   "name": "python",
   "nbconvert_exporter": "python",
   "pygments_lexer": "ipython3",
   "version": "3.12.3"
  }
 },
 "nbformat": 4,
 "nbformat_minor": 5
}
